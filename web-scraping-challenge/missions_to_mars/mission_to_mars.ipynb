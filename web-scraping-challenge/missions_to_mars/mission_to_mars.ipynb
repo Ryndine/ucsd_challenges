{
 "cells": [
  {
   "cell_type": "code",
   "execution_count": 1,
   "source": [
    "from splinter import Browser\r\n",
    "from bs4 import BeautifulSoup as bs\r\n",
    "from webdriver_manager.chrome import ChromeDriverManager\r\n",
    "import pandas as pd"
   ],
   "outputs": [],
   "metadata": {}
  },
  {
   "cell_type": "code",
   "execution_count": 2,
   "source": [
    "# Setting Up Splinter\r\n",
    "executable_path = {'executable_path': ChromeDriverManager().install()}\r\n",
    "browser = Browser('chrome', **executable_path, headless=False)"
   ],
   "outputs": [
    {
     "output_type": "stream",
     "name": "stderr",
     "text": [
      "\n",
      "\n",
      "====== WebDriver manager ======\n",
      "Current google-chrome version is 92.0.4515\n",
      "Get LATEST driver version for 92.0.4515\n",
      "Get LATEST driver version for 92.0.4515\n",
      "Trying to download new driver from https://chromedriver.storage.googleapis.com/92.0.4515.107/chromedriver_win32.zip\n",
      "Driver has been saved in cache [C:\\Users\\rcman\\.wdm\\drivers\\chromedriver\\win32\\92.0.4515.107]\n"
     ]
    }
   ],
   "metadata": {}
  },
  {
   "cell_type": "markdown",
   "source": [
    "# Mars News"
   ],
   "metadata": {}
  },
  {
   "cell_type": "code",
   "execution_count": 3,
   "source": [
    " # Link to mars news\r\n",
    "url_mars_news = 'https://redplanetscience.com/'\r\n",
    "browser.visit(url_mars_news)\r\n",
    "# HTML object\r\n",
    "html = browser.html\r\n",
    "# Parse with beautifulsoup\r\n",
    "soup_news = bs(html, 'html.parser')"
   ],
   "outputs": [],
   "metadata": {}
  },
  {
   "cell_type": "code",
   "execution_count": 4,
   "source": [
    "# Pull latest news title\r\n",
    "news_title = soup_news.find_all('div', class_='content_title')[0].text\r\n",
    "# Pull latest news paragraph\r\n",
    "news_paragraph = soup_news.find_all('div', class_='article_teaser_body')[0].text\r\n",
    "# Print Results\r\n",
    "print(news_title)\r\n",
    "print(news_paragraph)"
   ],
   "outputs": [
    {
     "output_type": "stream",
     "name": "stdout",
     "text": [
      "Mars 2020 Stands on Its Own Six Wheels\n",
      "In time-lapse video, taken at JPL, captures the first time NASA's Mars 2020 rover carries its full weight on its legs and wheels.\n"
     ]
    }
   ],
   "metadata": {}
  },
  {
   "cell_type": "markdown",
   "source": [
    "# Mars JPEG"
   ],
   "metadata": {}
  },
  {
   "cell_type": "code",
   "execution_count": 5,
   "source": [
    "# Link to jpl image site\r\n",
    "jpl_image_url = 'https://spaceimages-mars.com/'\r\n",
    "browser.visit(jpl_image_url)"
   ],
   "outputs": [],
   "metadata": {}
  },
  {
   "cell_type": "code",
   "execution_count": 6,
   "source": [
    "# HTML object\r\n",
    "html=browser.html\r\n",
    "# Parse with beautifulsoup\r\n",
    "soup_images=bs(html,\"html.parser\")"
   ],
   "outputs": [],
   "metadata": {}
  },
  {
   "cell_type": "code",
   "execution_count": 7,
   "source": [
    "# Find the featured image\r\n",
    "relative_image_path = soup_images.find_all('img')[1][\"src\"]\r\n",
    "# Add relative url path for image to the webpage url\r\n",
    "featured_image_url = jpl_image_url + relative_image_path\r\n",
    "print(featured_image_url)"
   ],
   "outputs": [
    {
     "output_type": "stream",
     "name": "stdout",
     "text": [
      "https://spaceimages-mars.com/image/featured/mars3.jpg\n"
     ]
    }
   ],
   "metadata": {}
  },
  {
   "cell_type": "markdown",
   "source": [
    "# Mars Fact"
   ],
   "metadata": {}
  },
  {
   "cell_type": "code",
   "execution_count": 8,
   "source": [
    "# Link to mars facts site\r\n",
    "url_mars_facts ='https://galaxyfacts-mars.com/'\r\n",
    "# Create tables\r\n",
    "facts_table = pd.read_html(url_mars_facts)\r\n",
    "print(facts_table)"
   ],
   "outputs": [
    {
     "output_type": "stream",
     "name": "stdout",
     "text": [
      "[                         0                1                2\n",
      "0  Mars - Earth Comparison             Mars            Earth\n",
      "1                Diameter:         6,779 km        12,742 km\n",
      "2                    Mass:  6.39 × 10^23 kg  5.97 × 10^24 kg\n",
      "3                   Moons:                2                1\n",
      "4       Distance from Sun:   227,943,824 km   149,598,262 km\n",
      "5          Length of Year:   687 Earth days      365.24 days\n",
      "6             Temperature:     -87 to -5 °C      -88 to 58°C,                       0                              1\n",
      "0  Equatorial Diameter:                       6,792 km\n",
      "1       Polar Diameter:                       6,752 km\n",
      "2                 Mass:  6.39 × 10^23 kg (0.11 Earths)\n",
      "3                Moons:          2 ( Phobos & Deimos )\n",
      "4       Orbit Distance:       227,943,824 km (1.38 AU)\n",
      "5         Orbit Period:           687 days (1.9 years)\n",
      "6  Surface Temperature:                   -87 to -5 °C\n",
      "7         First Record:              2nd millennium BC\n",
      "8          Recorded By:           Egyptian astronomers]\n"
     ]
    }
   ],
   "metadata": {}
  },
  {
   "cell_type": "code",
   "execution_count": 9,
   "source": [
    " # Create dataframe from table\r\n",
    "facts_df = facts_table[0]\r\n",
    "facts_df = facts_df.rename(columns={0:'Description', 1:'Mars', 2:'Earth'})\r\n",
    "facts_df.set_index(\"Description\",inplace=True)\r\n",
    "print(facts_df)"
   ],
   "outputs": [
    {
     "output_type": "stream",
     "name": "stdout",
     "text": [
      "                                    Mars            Earth\n",
      "Description                                              \n",
      "Mars - Earth Comparison             Mars            Earth\n",
      "Diameter:                       6,779 km        12,742 km\n",
      "Mass:                    6.39 × 10^23 kg  5.97 × 10^24 kg\n",
      "Moons:                                 2                1\n",
      "Distance from Sun:        227,943,824 km   149,598,262 km\n",
      "Length of Year:           687 Earth days      365.24 days\n",
      "Temperature:                -87 to -5 °C      -88 to 58°C\n"
     ]
    }
   ],
   "metadata": {}
  },
  {
   "cell_type": "code",
   "execution_count": 10,
   "source": [
    "# Convert dataframe to html string\r\n",
    "facts_df.replace('\\n', '')\r\n",
    "facts_df.to_html('mars_facts_table.html')"
   ],
   "outputs": [],
   "metadata": {}
  },
  {
   "cell_type": "markdown",
   "source": [
    "# Mars Hemispheres\r\n"
   ],
   "metadata": {}
  },
  {
   "cell_type": "code",
   "execution_count": 11,
   "source": [
    "# Scrape mars hemisphere title and image\r\n",
    "hemisphere_site = 'https://marshemispheres.com/'\r\n",
    "browser.visit(hemisphere_site)\r\n",
    "html = browser.html\r\n",
    "soup_hems = bs(html,'html.parser')"
   ],
   "outputs": [],
   "metadata": {}
  },
  {
   "cell_type": "code",
   "execution_count": 12,
   "source": [
    "# Hemispheres item\r\n",
    "mars_hemispheres = soup_hems.find('div',class_='collapsible results')\r\n",
    "mars_class_item = mars_hemispheres.find_all('div',class_='item')\r\n",
    "hemisphere_image_urls = []"
   ],
   "outputs": [],
   "metadata": {}
  },
  {
   "cell_type": "code",
   "execution_count": 13,
   "source": [
    "# Loop each hemisphere\r\n",
    "for item in mars_class_item:\r\n",
    "    try:\r\n",
    "        # Title\r\n",
    "        hemisphere = item.find('div',class_='description')\r\n",
    "        title = hemisphere.h3.text\r\n",
    "        # Image\r\n",
    "        hems_url = hemisphere.a['href']\r\n",
    "        browser.visit(hemisphere_site + hems_url)\r\n",
    "        html = browser.html\r\n",
    "        soup = bs(html,'html.parser')\r\n",
    "        relative_image = soup.find('li').a['href']\r\n",
    "        image_url = hemisphere_site + relative_image\r\n",
    "        if (title and relative_image):\r\n",
    "            print(title)\r\n",
    "            print(image_url)\r\n",
    "        # Title & url dict\r\n",
    "        hemisphere_dict={\r\n",
    "            'title':title,\r\n",
    "            'image_url':image_url\r\n",
    "        }\r\n",
    "        hemisphere_image_urls.append(hemisphere_dict)\r\n",
    "\r\n",
    "    except Exception as e:\r\n",
    "        print(e)"
   ],
   "outputs": [
    {
     "output_type": "stream",
     "name": "stdout",
     "text": [
      "Cerberus Hemisphere Enhanced\n",
      "https://marshemispheres.com/images/full.jpg\n",
      "Schiaparelli Hemisphere Enhanced\n",
      "https://marshemispheres.com/images/schiaparelli_enhanced-full.jpg\n",
      "Syrtis Major Hemisphere Enhanced\n",
      "https://marshemispheres.com/images/syrtis_major_enhanced-full.jpg\n",
      "Valles Marineris Hemisphere Enhanced\n",
      "https://marshemispheres.com/images/valles_marineris_enhanced-full.jpg\n"
     ]
    }
   ],
   "metadata": {}
  },
  {
   "cell_type": "code",
   "execution_count": 14,
   "source": [
    "# Create dictionary for all info scraped from sources above\r\n",
    "mars_dict = {\r\n",
    "    \"news_title\":news_title,\r\n",
    "    \"news_paragraph\":news_paragraph,\r\n",
    "    \"featured_image_url\":featured_image_url,\r\n",
    "    \"fact_table\":facts_df,\r\n",
    "    \"hemisphere_images\":hemisphere_image_urls\r\n",
    "}"
   ],
   "outputs": [],
   "metadata": {}
  },
  {
   "cell_type": "code",
   "execution_count": 15,
   "source": [
    "browser.quit()\r\n",
    "\r\n",
    "print(mars_dict)"
   ],
   "outputs": [
    {
     "output_type": "stream",
     "name": "stdout",
     "text": [
      "{'news_title': 'Mars 2020 Stands on Its Own Six Wheels', 'news_paragraph': \"In time-lapse video, taken at JPL, captures the first time NASA's Mars 2020 rover carries its full weight on its legs and wheels.\", 'featured_image_url': 'https://spaceimages-mars.com/image/featured/mars3.jpg', 'fact_table':                                     Mars            Earth\n",
      "Description                                              \n",
      "Mars - Earth Comparison             Mars            Earth\n",
      "Diameter:                       6,779 km        12,742 km\n",
      "Mass:                    6.39 × 10^23 kg  5.97 × 10^24 kg\n",
      "Moons:                                 2                1\n",
      "Distance from Sun:        227,943,824 km   149,598,262 km\n",
      "Length of Year:           687 Earth days      365.24 days\n",
      "Temperature:                -87 to -5 °C      -88 to 58°C, 'hemisphere_images': [{'title': 'Cerberus Hemisphere Enhanced', 'image_url': 'https://marshemispheres.com/images/full.jpg'}, {'title': 'Schiaparelli Hemisphere Enhanced', 'image_url': 'https://marshemispheres.com/images/schiaparelli_enhanced-full.jpg'}, {'title': 'Syrtis Major Hemisphere Enhanced', 'image_url': 'https://marshemispheres.com/images/syrtis_major_enhanced-full.jpg'}, {'title': 'Valles Marineris Hemisphere Enhanced', 'image_url': 'https://marshemispheres.com/images/valles_marineris_enhanced-full.jpg'}]}\n"
     ]
    }
   ],
   "metadata": {}
  }
 ],
 "metadata": {
  "orig_nbformat": 4,
  "language_info": {
   "name": "python",
   "version": "3.8.5",
   "mimetype": "text/x-python",
   "codemirror_mode": {
    "name": "ipython",
    "version": 3
   },
   "pygments_lexer": "ipython3",
   "nbconvert_exporter": "python",
   "file_extension": ".py"
  },
  "kernelspec": {
   "name": "python3",
   "display_name": "Python 3.8.5 64-bit ('base': conda)"
  },
  "interpreter": {
   "hash": "62249ab88f004581040b552093f6a37d297968d50509d16f925c90e58a716667"
  }
 },
 "nbformat": 4,
 "nbformat_minor": 2
}