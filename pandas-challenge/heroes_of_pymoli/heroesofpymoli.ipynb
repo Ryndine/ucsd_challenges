{
 "cells": [
  {
   "cell_type": "markdown",
   "metadata": {},
   "source": [
    "### Note\n",
    "* Instructions have been included for each segment. You do not have to follow them exactly, but they are included to help you think through the steps."
   ]
  },
  {
   "cell_type": "code",
   "execution_count": 1,
   "metadata": {},
   "outputs": [],
   "source": [
    "# Dependencies and Setup\n",
    "import pandas as pd\n",
    "# File to Load (Remember to Change These)\n",
    "file_to_load = \"Resources/purchase_data.csv\"\n",
    "# Read Purchasing File and store into Pandas data frame\n",
    "purchase_data = pd.read_csv(file_to_load)"
   ]
  },
  {
   "cell_type": "code",
   "execution_count": 2,
   "metadata": {},
   "outputs": [],
   "source": [
    "#Setup Formatting\n",
    "def dec_fmt(d_in, is_cash=False, is_perc=False, use_commas=False):\n",
    "    fmtstr = ''\n",
    "    if is_cash:\n",
    "        fmtstr += '$'\n",
    "    fmtstr += '{:'\n",
    "    if use_commas:\n",
    "        fmtstr += ','\n",
    "    fmtstr += '.2f}'\n",
    "    if is_perc:\n",
    "        fmtstr += '%'\n",
    "    return d_in.map(fmtstr.format)\n",
    "\n",
    "from functools import partial\n",
    "perc_fmt = partial(dec_fmt, is_perc=True)\n",
    "cash_fmt = partial(dec_fmt, is_cash=True)\n",
    "cashcomma_fmt = partial(dec_fmt, is_cash=True, use_commas=True)"
   ]
  },
  {
   "cell_type": "markdown",
   "metadata": {},
   "source": [
    "## Player Count"
   ]
  },
  {
   "cell_type": "markdown",
   "metadata": {},
   "source": [
    "* Display the total number of players\n"
   ]
  },
  {
   "cell_type": "code",
   "execution_count": 3,
   "metadata": {},
   "outputs": [
    {
     "output_type": "stream",
     "name": "stdout",
     "text": [
      "576\n"
     ]
    }
   ],
   "source": [
    "# Find all unique player screen names.\n",
    "unique_players = purchase_data[\"SN\"].nunique()\n",
    "# Get the total number of players.\n",
    "print(unique_players)"
   ]
  },
  {
   "cell_type": "markdown",
   "metadata": {},
   "source": [
    "## Purchasing Analysis (Total)"
   ]
  },
  {
   "cell_type": "markdown",
   "metadata": {},
   "source": [
    "* Run basic calculations to obtain number of unique items, average price, etc.\n",
    "\n",
    "\n",
    "* Create a summary data frame to hold the results\n",
    "\n",
    "\n",
    "* Optional: give the displayed data cleaner formatting\n",
    "\n",
    "\n",
    "* Display the summary data frame\n"
   ]
  },
  {
   "cell_type": "code",
   "execution_count": 4,
   "metadata": {
    "scrolled": true
   },
   "outputs": [
    {
     "output_type": "stream",
     "name": "stdout",
     "text": [
      " Number of Unique Items Average Price  Number of Purchases Total Revenue\n                    179         $3.05                  780     $2,379.77\n"
     ]
    }
   ],
   "source": [
    "# Create variables for the summary table.\n",
    "unique_items = purchase_data[\"Item ID\"].nunique()\n",
    "price_average = purchase_data[\"Price\"].mean()\n",
    "total_purchases = len(purchase_data)\n",
    "total_revenue = purchase_data[\"Price\"].sum()\n",
    "# Create a list of lists using the new variables.\n",
    "ST = [[unique_items, price_average, total_purchases, total_revenue]] \n",
    "columns = [\"Number of Unique Items\", \"Average Price\", \"Number of Purchases\", \"Total Revenue\"]\n",
    "# Create the drataframe for our summary table.\n",
    "purchase_totals = pd.DataFrame(ST, columns=columns)\n",
    "# Formating for the USD columns.\n",
    "purchase_totals[\"Average Price\"] = cash_fmt(purchase_totals[\"Average Price\"])\n",
    "purchase_totals[\"Total Revenue\"] = cashcomma_fmt(purchase_totals[\"Total Revenue\"])\n",
    "# Get that data!\n",
    "print(purchase_totals.to_string(index=False))"
   ]
  },
  {
   "cell_type": "markdown",
   "metadata": {},
   "source": [
    "## Gender Demographics"
   ]
  },
  {
   "cell_type": "markdown",
   "metadata": {},
   "source": [
    "* Percentage and Count of Male Players\n",
    "\n",
    "\n",
    "* Percentage and Count of Female Players\n",
    "\n",
    "\n",
    "* Percentage and Count of Other / Non-Disclosed\n",
    "\n",
    "\n"
   ]
  },
  {
   "cell_type": "code",
   "execution_count": 5,
   "metadata": {},
   "outputs": [
    {
     "output_type": "stream",
     "name": "stdout",
     "text": [
      "                       Total Count Percentage of Players\nMale                           484                84.03%\nFemale                          81                14.06%\nOther / Non-Disclosed           11                 1.91%\n"
     ]
    }
   ],
   "source": [
    "# Group purchase_data by Gender\n",
    "gender_groups = purchase_data.groupby([\"Gender\"])\n",
    "# Create df with the sum of the unique screen names\n",
    "gender_count = pd.DataFrame(gender_groups[\"SN\"].nunique())\n",
    "# Create new df with percentage values\n",
    "gender_percentage = (gender_count/unique_players)*100\n",
    "# Merge the two dataframes by Gender\n",
    "gender_summary = pd.merge(gender_count, gender_percentage, on=\"Gender\", how=\"right\")\n",
    "# Cleanup and format the dataframe\n",
    "gender_summary.columns = [\"Total Count\", \"Percentage of Players\"]\n",
    "gender_summary[\"Percentage of Players\"] = perc_fmt(gender_summary[\"Percentage of Players\"])\n",
    "gender_summary.sort_values(by=[\"Total Count\"], inplace=True, ascending=False)\n",
    "gender_summary.index.name = None\n",
    "# Get that data!\n",
    "print(gender_summary.to_string(index=True))"
   ]
  },
  {
   "cell_type": "markdown",
   "metadata": {},
   "source": [
    "\n",
    "## Purchasing Analysis (Gender)"
   ]
  },
  {
   "cell_type": "markdown",
   "metadata": {},
   "source": [
    "* Run basic calculations to obtain purchase count, avg. purchase price, avg. purchase total per person etc. by gender\n",
    "\n",
    "\n",
    "\n",
    "\n",
    "* Create a summary data frame to hold the results\n",
    "\n",
    "\n",
    "* Optional: give the displayed data cleaner formatting\n",
    "\n",
    "\n",
    "* Display the summary data frame"
   ]
  },
  {
   "cell_type": "code",
   "execution_count": 6,
   "metadata": {},
   "outputs": [
    {
     "output_type": "stream",
     "name": "stdout",
     "text": [
      "                       Purchase Count Average Purchase Price Total Purchase Value Avg Total Purchase per Person\nGender                                                                                                         \nFemale                            113                  $3.20              $361.94                         $4.47\nMale                              652                  $3.02            $1,967.64                         $4.07\nOther / Non-Disclosed              15                  $3.35               $50.19                         $4.56\n"
     ]
    }
   ],
   "source": [
    "# Run calculations for dataframe\n",
    "purchase_count = pd.DataFrame(gender_groups[\"Purchase ID\"].count())\n",
    "average_purchase = pd.DataFrame(gender_groups[\"Price\"].mean())\n",
    "total_purchased = pd.DataFrame(gender_groups[\"Price\"].sum())\n",
    "average_person = total_purchased.div(gender_count.values)\n",
    "# Merge everything together to create new df\n",
    "purchase_list = [purchase_count, average_purchase, total_purchased, average_person]\n",
    "merged_purchases = pd.concat(purchase_list, join=\"outer\", axis=1)\n",
    "# Formatting stuff\n",
    "merged_purchases.columns = [\"Purchase Count\", \"Average Purchase Price\", \"Total Purchase Value\", \"Avg Total Purchase per Person\"]\n",
    "merged_purchases[\"Average Purchase Price\"] = cash_fmt(merged_purchases[\"Average Purchase Price\"])\n",
    "merged_purchases[\"Total Purchase Value\"] = cashcomma_fmt(merged_purchases[\"Total Purchase Value\"])\n",
    "merged_purchases[\"Avg Total Purchase per Person\"] = cash_fmt(merged_purchases[\"Avg Total Purchase per Person\"])\n",
    "# Get that data!\n",
    "print(merged_purchases.to_string(index=True))"
   ]
  },
  {
   "cell_type": "markdown",
   "metadata": {},
   "source": [
    "## Age Demographics"
   ]
  },
  {
   "cell_type": "markdown",
   "metadata": {},
   "source": [
    "* Establish bins for ages\n",
    "\n",
    "\n",
    "* Categorize the existing players using the age bins. Hint: use pd.cut()\n",
    "\n",
    "\n",
    "* Calculate the numbers and percentages by age group\n",
    "\n",
    "\n",
    "* Create a summary data frame to hold the results\n",
    "\n",
    "\n",
    "* Optional: round the percentage column to two decimal points\n",
    "\n",
    "\n",
    "* Display Age Demographics Table\n"
   ]
  },
  {
   "cell_type": "code",
   "execution_count": 7,
   "metadata": {},
   "outputs": [
    {
     "output_type": "stream",
     "name": "stdout",
     "text": [
      "       Total Count Percentage of Players\n<10             17                 2.95%\n10-14           22                 3.82%\n15-19          107                18.58%\n20-24          258                44.79%\n25-29           77                13.37%\n30-34           52                 9.03%\n35-39           31                 5.38%\n40+             12                 2.08%\n"
     ]
    }
   ],
   "source": [
    "# Make a bin\n",
    "age_bin = [0, 9, 14, 19, 24, 29, 34, 39, 200]\n",
    "bin_names = [\"<10\", \"10-14\", \"15-19\", \"20-24\", \"25-29\", \"30-34\", \"35-39\", \"40+\"]\n",
    "# Add age values to the bin\n",
    "purchase_data[\"Age Ranges\"] = pd.cut(purchase_data[\"Age\"], age_bin, labels=bin_names)\n",
    "# Dataframe for the new column\n",
    "age_groups = purchase_data.groupby(\"Age Ranges\")\n",
    "# Calculate Totals & Percentage\n",
    "age_totals = pd.DataFrame(age_groups[\"SN\"].nunique())\n",
    "age_percentage = (age_totals/unique_players)*100\n",
    "# Merge dataframes\n",
    "age_summary = pd.merge(age_totals, age_percentage, on=\"Age Ranges\", how=\"outer\")\n",
    "# Formatting new dataframe\n",
    "age_summary.columns = [\"Total Count\", \"Percentage of Players\"]\n",
    "age_summary[\"Percentage of Players\"] = perc_fmt(age_summary[\"Percentage of Players\"])\n",
    "age_summary.index.name = None\n",
    "# Get that data!\n",
    "print(age_summary.to_string(index=True))"
   ]
  },
  {
   "cell_type": "markdown",
   "metadata": {},
   "source": [
    "## Purchasing Analysis (Age)"
   ]
  },
  {
   "cell_type": "markdown",
   "metadata": {},
   "source": [
    "* Bin the purchase_data data frame by age\n",
    "\n",
    "\n",
    "* Run basic calculations to obtain purchase count, avg. purchase price, avg. purchase total per person etc. in the table below\n",
    "\n",
    "\n",
    "* Create a summary data frame to hold the results\n",
    "\n",
    "\n",
    "* Optional: give the displayed data cleaner formatting\n",
    "\n",
    "\n",
    "* Display the summary data frame"
   ]
  },
  {
   "cell_type": "code",
   "execution_count": 8,
   "metadata": {},
   "outputs": [
    {
     "output_type": "stream",
     "name": "stdout",
     "text": [
      "            Purchase Count Average Purchase Price Total Purchase Value Avg Total Purchase per Person\nAge Ranges                                                                                          \n<10                     23                  $3.35               $77.13                         $4.54\n10-14                   28                  $2.96               $82.78                         $3.76\n15-19                  136                  $3.04              $412.89                         $3.86\n20-24                  365                  $3.05            $1,114.06                         $4.32\n25-29                  101                  $2.90              $293.00                         $3.81\n30-34                   73                  $2.93              $214.00                         $4.12\n35-39                   41                  $3.60              $147.67                         $4.76\n40+                     13                  $2.94               $38.24                         $3.19\n"
     ]
    }
   ],
   "source": [
    "# Run calculations for dataframe\n",
    "age_purchase_count = pd.DataFrame(age_groups[\"Purchase ID\"].count())\n",
    "age_average_purchase = pd.DataFrame(age_groups[\"Price\"].mean())\n",
    "age_total_purchased = pd.DataFrame(age_groups[\"Price\"].sum())\n",
    "age_average_person = age_total_purchased.div(age_totals.values)\n",
    "# Merge everything together to create new df\n",
    "age_purchase_list = [age_purchase_count, age_average_purchase, age_total_purchased, age_average_person]\n",
    "age_merged = pd.concat(age_purchase_list, join=\"outer\", axis=1)\n",
    "# Formatting stuff\n",
    "age_merged.columns = [\"Purchase Count\", \"Average Purchase Price\", \"Total Purchase Value\", \"Avg Total Purchase per Person\"]\n",
    "age_merged[\"Average Purchase Price\"] = cash_fmt(age_merged[\"Average Purchase Price\"])\n",
    "age_merged[\"Total Purchase Value\"] = cashcomma_fmt(age_merged[\"Total Purchase Value\"])\n",
    "age_merged[\"Avg Total Purchase per Person\"] = cash_fmt(age_merged[\"Avg Total Purchase per Person\"])\n",
    "# Get that data!\n",
    "print(age_merged.to_string(index=True))"
   ]
  },
  {
   "cell_type": "markdown",
   "metadata": {},
   "source": [
    "## Top Spenders"
   ]
  },
  {
   "cell_type": "markdown",
   "metadata": {},
   "source": [
    "* Run basic calculations to obtain the results in the table below\n",
    "\n",
    "\n",
    "* Create a summary data frame to hold the results\n",
    "\n",
    "\n",
    "* Sort the total purchase value column in descending order\n",
    "\n",
    "\n",
    "* Optional: give the displayed data cleaner formatting\n",
    "\n",
    "\n",
    "* Display a preview of the summary data frame\n",
    "\n"
   ]
  },
  {
   "cell_type": "code",
   "execution_count": 12,
   "metadata": {
    "tags": []
   },
   "outputs": [
    {
     "output_type": "stream",
     "name": "stdout",
     "text": [
      "              Purchase Count Average Purchase Price Total Purchase Value\nSN                                                                      \nLisosia93                  5                  $3.79               $18.96\nIral74                     4                  $3.40               $13.62\nIdastidru52                4                  $3.86               $15.45\nAsur53                     3                  $2.48                $7.44\nInguron55                  3                  $3.70               $11.11\nAina42                     3                  $3.07                $9.22\nIlarin91                   3                  $4.23               $12.70\nIdai61                     3                  $2.74                $8.23\nUmolrian85                 3                  $2.71                $8.13\nIalallo29                  3                  $3.95               $11.84\n...                      ...                    ...                  ...\nHeudai45                   1                  $3.47                $3.47\nHeollyriap59               1                  $3.47                $3.47\nHeollyra92                 1                  $3.07                $3.07\nHariphos58                 1                  $2.05                $2.05\nHallysucal81               1                  $1.66                $1.66\nHala31                     1                  $1.02                $1.02\nHaisurra41                 1                  $4.40                $4.40\nHailaphos89                1                  $3.81                $3.81\nHaestyphos66               1                  $1.97                $1.97\nIskosian40                 1                  $3.07                $3.07\n"
     ]
    }
   ],
   "source": [
    "# Group data by screen names\n",
    "spender_group = purchase_data.groupby(\"SN\")\n",
    "# Unique number of spenders for later\n",
    "unique_spenders = pd.DataFrame(spender_group[\"SN\"].nunique())\n",
    "# Run all the calculations\n",
    "spender_count = spender_group[\"Purchase ID\"].count()\n",
    "spender_average = pd.DataFrame(spender_group[\"Price\"].mean())\n",
    "spender_total = pd.DataFrame(spender_group[\"Price\"].sum())\n",
    "# Merge everything together to create new df\n",
    "spender_list = [spender_count, spender_average, spender_total]\n",
    "spenders_merged = pd.concat(spender_list, join=\"outer\", axis=1)\n",
    "# Formating dataframe\n",
    "spenders_merged.columns = [\"Purchase Count\", \"Average Purchase Price\", \"Total Purchase Value\"]\n",
    "spenders_merged[\"Average Purchase Price\"] = cash_fmt(spenders_merged[\"Average Purchase Price\"])\n",
    "spenders_merged[\"Total Purchase Value\"] = cashcomma_fmt(spenders_merged[\"Total Purchase Value\"])\n",
    "spenders_merged = spenders_merged.sort_values(by=[\"Purchase Count\"], ascending=False)\n",
    "#Get that data!\n",
    "print(spenders_merged.to_string(index=True, max_rows=6))"
   ]
  },
  {
   "cell_type": "markdown",
   "metadata": {},
   "source": [
    "## Most Popular Items"
   ]
  },
  {
   "cell_type": "markdown",
   "metadata": {},
   "source": [
    "* Retrieve the Item ID, Item Name, and Item Price columns\n",
    "\n",
    "\n",
    "* Group by Item ID and Item Name. Perform calculations to obtain purchase count, average item price, and total purchase value\n",
    "\n",
    "\n",
    "* Create a summary data frame to hold the results\n",
    "\n",
    "\n",
    "* Sort the purchase count column in descending order\n",
    "\n",
    "\n",
    "* Optional: give the displayed data cleaner formatting\n",
    "\n",
    "\n",
    "* Display a preview of the summary data frame\n",
    "\n"
   ]
  },
  {
   "cell_type": "code",
   "execution_count": 13,
   "metadata": {},
   "outputs": [
    {
     "output_type": "stream",
     "name": "stdout",
     "text": [
      "                                                      Purchase Count Item Price Total Purchase Value\nItem ID Item Name                                                                                   \n92      Final Critic                                              13      $4.61               $59.99\n178     Oathbreaker, Last Hope of the Breaking Storm              12      $4.23               $50.76\n145     Fiery Glass Crusader                                       9      $4.58               $41.22\n...                                                              ...        ...                  ...\n118     Ghost Reaver, Longsword of Magic                           1      $2.17                $2.17\n104     Gladiator's Glaive                                         1      $1.93                $1.93\n91      Celeste                                                    1      $4.17                $4.17\n"
     ]
    }
   ],
   "source": [
    "# Create df with the item columns\n",
    "item_data = purchase_data[[\"Item ID\", \"Item Name\", \"Price\"]]\n",
    "# Group items based on ID and name\n",
    "item_group = item_data.groupby([\"Item ID\", \"Item Name\"])\n",
    "# Run calcuations for new table\n",
    "purchased_items = pd.DataFrame(item_group[\"Price\"].count())\n",
    "item_totals = pd.DataFrame(item_group[\"Price\"].sum())\n",
    "item_prices = item_totals.div(purchased_items.values)\n",
    "# Merge it all\n",
    "items_list = [purchased_items, item_prices, item_totals]\n",
    "items_merged = pd.concat(items_list, join=\"outer\", axis=1)\n",
    "# Format everything\n",
    "items_merged.columns = [\"Purchase Count\", \"Item Price\", \"Total Purchase Value\"]\n",
    "items_merged[\"Item Price\"] = cash_fmt(items_merged[\"Item Price\"])\n",
    "items_merged[\"Total Purchase Value\"] = cashcomma_fmt(items_merged[\"Total Purchase Value\"])\n",
    "items_merged = items_merged.sort_values(by=[\"Purchase Count\"], ascending=False)\n",
    "# Get that data!\n",
    "print(items_merged.to_string(index=True, max_rows=6))"
   ]
  },
  {
   "cell_type": "markdown",
   "metadata": {},
   "source": [
    "## Most Profitable Items"
   ]
  },
  {
   "cell_type": "markdown",
   "metadata": {},
   "source": [
    "* Sort the above table by total purchase value in descending order\n",
    "\n",
    "\n",
    "* Optional: give the displayed data cleaner formatting\n",
    "\n",
    "\n",
    "* Display a preview of the data frame\n",
    "\n"
   ]
  },
  {
   "cell_type": "code",
   "execution_count": 11,
   "metadata": {
    "scrolled": true
   },
   "outputs": [
    {
     "output_type": "stream",
     "name": "stdout",
     "text": [
      "                                                      Purchase Count Item Price Total Purchase Value\nItem ID Item Name                                                                                   \n92      Final Critic                                              13      $4.61               $59.99\n178     Oathbreaker, Last Hope of the Breaking Storm              12      $4.23               $50.76\n82      Nirvana                                                    9      $4.90               $44.10\n...                                                              ...        ...                  ...\n125     Whistling Mithril Warblade                                 2      $1.00                $2.00\n104     Gladiator's Glaive                                         1      $1.93                $1.93\n42      The Decapitator                                            1      $1.75                $1.75\n"
     ]
    }
   ],
   "source": [
    "# Copy dataframe\n",
    "items_profitable = items_merged\n",
    "# Remove symbol and convert column into float type for sorting\n",
    "items_profitable[\"Total Purchase Value\"] = items_profitable[\"Total Purchase Value\"].str.replace(\"$\", \"\").astype(\"float\")\n",
    "# Sort data\n",
    "items_profitable = items_profitable.sort_values(by=[\"Total Purchase Value\"], ascending=False)\n",
    "# Re-Format\n",
    "items_profitable[\"Total Purchase Value\"] = cashcomma_fmt(items_profitable[\"Total Purchase Value\"])\n",
    "# Get that data!\n",
    "print(items_profitable.to_string(index=True, max_rows=6))"
   ]
  }
 ],
 "metadata": {
  "anaconda-cloud": {},
  "kernel_info": {
   "name": "python3"
  },
  "kernelspec": {
   "name": "python3610jvsc74a57bd02fb578de7d453893d832cab0cc86f253343c04b5784debfcb8264113f1e4cfa6",
   "display_name": "Python 3.6.10 64-bit ('PythonData': conda)"
  },
  "language_info": {
   "codemirror_mode": {
    "name": "ipython",
    "version": 3
   },
   "file_extension": ".py",
   "mimetype": "text/x-python",
   "name": "python",
   "nbconvert_exporter": "python",
   "pygments_lexer": "ipython3",
   "version": "3.6.10"
  },
  "latex_envs": {
   "LaTeX_envs_menu_present": true,
   "autoclose": false,
   "autocomplete": true,
   "bibliofile": "biblio.bib",
   "cite_by": "apalike",
   "current_citInitial": 1,
   "eqLabelWithNumbers": true,
   "eqNumInitial": 1,
   "hotkeys": {
    "equation": "Ctrl-E",
    "itemize": "Ctrl-I"
   },
   "labels_anchors": false,
   "latex_user_defs": false,
   "report_style_numbering": false,
   "user_envs_cfg": false
  },
  "nteract": {
   "version": "0.2.0"
  }
 },
 "nbformat": 4,
 "nbformat_minor": 2
}