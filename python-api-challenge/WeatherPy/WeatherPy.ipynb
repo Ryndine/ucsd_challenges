{
 "cells": [
  {
   "cell_type": "code",
   "execution_count": null,
   "metadata": {},
   "outputs": [],
   "source": [
    "# Observations!\n",
    "# 1) According to this dataset there is slight correlation between latitude and humidity.\n",
    "# 2) It seems as though there is more correlation betwen cloudiness and latitude in the southern hemisphere than the northern.\n",
    "# 3) Temperature correlates with latitude in that the futher away the latitude is from the quator the lower the temperature is."
   ]
  },
  {
   "cell_type": "markdown",
   "metadata": {},
   "source": [
    "# WeatherPy\n",
    "----\n",
    "\n",
    "#### Note\n",
    "* Instructions have been included for each segment. You do not have to follow them exactly, but they are included to help you think through the steps."
   ]
  },
  {
   "cell_type": "code",
   "execution_count": null,
   "metadata": {
    "scrolled": true
   },
   "outputs": [],
   "source": [
    "# Dependencies and Setup\n",
    "import matplotlib.pyplot as plt\n",
    "import pandas as pd\n",
    "import numpy as np\n",
    "import requests\n",
    "import time\n",
    "from typing import List\n",
    "from scipy.stats import linregress\n",
    "from datetime import datetime\n",
    "\n",
    "# Import API key\n",
    "import os\n",
    "import sys\n",
    "module_path = os.path.abspath(os.path.join('..'))\n",
    "if module_path not in sys.path:\n",
    "    sys.path.append(module_path)\n",
    "from api_keys import weather_api_key\n",
    "\n",
    "# Incorporated citipy to determine city based on latitude and longitude\n",
    "from citipy import citipy\n",
    "\n",
    "# Output File (CSV)\n",
    "output_data_file = \"output_data/cities.csv\"\n",
    "\n",
    "# Range of latitudes and longitudes\n",
    "lat_range = (-90, 90)\n",
    "lng_range = (-180, 180)"
   ]
  },
  {
   "cell_type": "markdown",
   "metadata": {},
   "source": [
    "## Generate Cities List"
   ]
  },
  {
   "cell_type": "code",
   "execution_count": null,
   "metadata": {},
   "outputs": [],
   "source": [
    "# List for holding lat_lngs and cities\n",
    "lat_lngs = []\n",
    "cities = []\n",
    "\n",
    "# Create a set of random lat and lng combinations\n",
    "lats = np.random.uniform(lat_range[0], lat_range[1], size=1500)\n",
    "lngs = np.random.uniform(lng_range[0], lng_range[1], size=1500)\n",
    "lat_lngs = zip(lats, lngs)\n",
    "\n",
    "# Identify nearest city for each lat, lng combination\n",
    "for lat_lng in lat_lngs:\n",
    "    city = citipy.nearest_city(lat_lng[0], lat_lng[1]).city_name\n",
    "    \n",
    "    # If the city is unique, then add it to a our cities list\n",
    "    if city not in cities:\n",
    "        cities.append(city)\n",
    "\n",
    "# Print the city count to confirm sufficient count\n",
    "len(cities)"
   ]
  },
  {
   "cell_type": "markdown",
   "metadata": {},
   "source": [
    "### Perform API Calls\n",
    "* Perform a weather check on each city using a series of successive API calls.\n",
    "* Include a print log of each city as it'sbeing processed (with the city number and city name).\n"
   ]
  },
  {
   "cell_type": "code",
   "execution_count": null,
   "metadata": {
    "scrolled": true,
    "tags": [
     "outputPrepend"
    ]
   },
   "outputs": [],
   "source": [
    "# Create class for my API call.\n",
    "class weather_data:\n",
    "    def __init__(self, city, key):\n",
    "        self.URL = \"http://api.openweathermap.org/data/2.5/weather?\"\n",
    "        self.key = key\n",
    "        self.city = city\n",
    "        self.unit = 'imperial'\n",
    "    \n",
    "    # Create function that runs an API call for the data I'm pulling.\n",
    "    def getWeather(self):\n",
    "        query = str(self.URL+'&appid='+self.key+'&q='+self.city+'&units='+self.unit)\n",
    "        data = requests.get(query)\n",
    "        wjson = data.json()\n",
    "        city_lon = wjson['coord']['lon']\n",
    "        city_lat = wjson['coord']['lat']\n",
    "        city_max_temp = wjson['main']['temp_max']\n",
    "        city_humidity = wjson['main']['humidity']\n",
    "        city_clouds = wjson['clouds']['all']\n",
    "        city_wind = wjson['wind']['speed']\n",
    "        city_country = wjson['sys']['country']\n",
    "        city_datetime = wjson['dt']\n",
    "        # Return a dict to get the values out of object.\n",
    "        return {'City': self.city,'Lon': city_lon, 'Lat': city_lat, 'Max Temp': city_max_temp, 'Humidity': city_humidity, 'Cloudiness': city_clouds, 'Wind Speed': city_wind, 'Country': city_country, 'Date': city_datetime}\n",
    "# Create empty list.\n",
    "data_list = []\n",
    "# Start up the loop for cities.\n",
    "for city in cities:\n",
    "    # Try to run the API call, and add pulled data to list.:\n",
    "    try:\n",
    "        weather_city = weather_data(city, weather_api_key)\n",
    "        data_list.append(weather_city.getWeather())\n",
    "    # If current city does not exist, move to next city.\n",
    "    except:\n",
    "        pass\n",
    "# Create dataframe from our dict.\n",
    "city_dataframe = pd.DataFrame.from_records(data_list)"
   ]
  },
  {
   "cell_type": "markdown",
   "metadata": {},
   "source": [
    "### Convert Raw Data to DataFrame\n",
    "* Export the city data into a .csv.\n",
    "* Display the DataFrame"
   ]
  },
  {
   "cell_type": "code",
   "execution_count": null,
   "metadata": {},
   "outputs": [],
   "source": [
    "# Output dataframe to a csv file\n",
    "city_dataframe.to_csv(R'../output_data/weather_csv.csv', index = False)"
   ]
  },
  {
   "cell_type": "code",
   "execution_count": null,
   "metadata": {},
   "outputs": [],
   "source": [
    "# Format dataframe date, then display & show the shape.\n",
    "city_dataframe['Date'] = pd.to_datetime(city_dataframe['Date'],unit='s').dt.date\n",
    "print(city_dataframe.head(), city_dataframe.shape)"
   ]
  },
  {
   "cell_type": "markdown",
   "metadata": {},
   "source": [
    "## Inspect the data and remove the cities where the humidity > 100%.\n",
    "----\n",
    "Skip this step if there are no cities that have humidity > 100%. "
   ]
  },
  {
   "cell_type": "code",
   "execution_count": null,
   "metadata": {},
   "outputs": [],
   "source": [
    "# Check filter cities over 100% humidity\n",
    "sweaty_city_check = city_dataframe[city_dataframe['Humidity'] <= 100]\n",
    "# Check shape of new df and compare to previous shape.\n",
    "print(sweaty_city_check.shape)\n",
    "# No cities above 100% humidity"
   ]
  },
  {
   "cell_type": "markdown",
   "metadata": {},
   "source": [
    "## Plotting the Data\n",
    "* Use proper labeling of the plots using plot titles (including date of analysis) and axes labels.\n",
    "* Save the plotted figures as .pngs."
   ]
  },
  {
   "cell_type": "markdown",
   "metadata": {},
   "source": [
    "## Latitude vs. Temperature Plot"
   ]
  },
  {
   "cell_type": "code",
   "execution_count": null,
   "metadata": {
    "scrolled": true
   },
   "outputs": [],
   "source": [
    "# Create plot\n",
    "plt.scatter(city_dataframe['Lat'], city_dataframe['Max Temp'], marker='o')\n",
    "plt.title(f'City Latitude vs City Temperature {time.strftime(\"(%m/%d/%Y)\")}')\n",
    "plt.ylabel('Temperature (F)')\n",
    "plt.xlabel('Latitude')\n",
    "plt.grid(True)\n",
    "plt.tight_layout()\n",
    "plt.show()\n",
    "\n",
    "# This scatter plot shows relation between latitude and a city's maximum temperature. Maximum temperature changes depending on distance from the equator, value 0."
   ]
  },
  {
   "cell_type": "markdown",
   "metadata": {},
   "source": [
    "## Latitude vs. Humidity Plot"
   ]
  },
  {
   "cell_type": "code",
   "execution_count": null,
   "metadata": {},
   "outputs": [],
   "source": [
    "# Create plot\n",
    "plt.scatter(city_dataframe['Lat'], city_dataframe['Humidity'], marker='o')\n",
    "plt.title(f'City Latitude vs City Humidity {time.strftime(\"(%m/%d/%Y)\")}')\n",
    "plt.ylabel('Humidity')\n",
    "plt.xlabel('Latitude')\n",
    "plt.grid(True)\n",
    "plt.tight_layout()\n",
    "plt.show()\n",
    "\n",
    "# This scatter plot shows relation between latitude and a city's humdity. The graph represents how humidity changes depending on the distance from the equator, but there seems to be no correlation between these values."
   ]
  },
  {
   "cell_type": "markdown",
   "metadata": {},
   "source": [
    "## Latitude vs. Cloudiness Plot"
   ]
  },
  {
   "cell_type": "code",
   "execution_count": null,
   "metadata": {},
   "outputs": [],
   "source": [
    "# Create plot\n",
    "plt.scatter(city_dataframe['Lat'], city_dataframe['Cloudiness'], marker='o')\n",
    "plt.title(f'City Latitude vs City Clludiness {time.strftime(\"(%m/%d/%Y)\")}')\n",
    "plt.ylabel('Cloudiness')\n",
    "plt.xlabel('Latitude')\n",
    "plt.grid(True)\n",
    "plt.tight_layout()\n",
    "plt.show()\n",
    "\n",
    "# This scatter plot shows relation between latitude and a city's cloudiness. Looking at the plot you can there is no correlation between these values."
   ]
  },
  {
   "cell_type": "markdown",
   "metadata": {},
   "source": [
    "## Latitude vs. Wind Speed Plot"
   ]
  },
  {
   "cell_type": "code",
   "execution_count": null,
   "metadata": {},
   "outputs": [],
   "source": [
    "# Create plot\n",
    "plt.scatter(city_dataframe['Lat'], city_dataframe['Wind Speed'], marker='o')\n",
    "plt.title(f'City Latitude vs City Wind Speed {time.strftime(\"(%m/%d/%Y)\")}')\n",
    "plt.ylabel('Wind Speed')\n",
    "plt.xlabel('Latitude')\n",
    "plt.grid(True)\n",
    "plt.tight_layout()\n",
    "plt.show()\n",
    "\n",
    "# This scatter plot shows relation between latitude and a city's wind speed. This plot shows no correlation between the two values since all the data is evenly spread. It does show though that most cities in the world are between 0 and 15 mph speeds."
   ]
  },
  {
   "cell_type": "markdown",
   "metadata": {},
   "source": [
    "## Linear Regression"
   ]
  },
  {
   "cell_type": "code",
   "execution_count": null,
   "metadata": {},
   "outputs": [],
   "source": [
    "# Create two new dataframes for northern and southern hems.\n",
    "northern_hem = city_dataframe.loc[city_dataframe['Lat'] >= 0]\n",
    "southern_hem = city_dataframe.loc[city_dataframe['Lat'] <= 0]\n",
    "\n",
    "# Create a function that finds linear regression, then creates the plot.\n",
    "def LinearRegressionPlots(xvalue, yvalue, xlabel, ylabel, eqpos, figure):\n",
    "    (slp, intcpt, rval, pval, stderr) = linregress(xvalue, yvalue)\n",
    "    reg_value = xvalue * slp + intcpt\n",
    "    print(f'The r-squared value is: {rval}')\n",
    "    equation = 'y = ' + str(round(slp, 2)) + 'x + ' + str(round(intcpt, 2))\n",
    "\n",
    "    plt.scatter(xvalue, yvalue)\n",
    "    plt.plot(xvalue, reg_value, 'r-')\n",
    "    plt.annotate(equation, eqpos, fontsize=16, color='red')\n",
    "    plt.xlabel(xlabel)\n",
    "    plt.ylabel(ylabel)\n",
    "    plt.tight_layout()\n",
    "    plt.savefig(f'../output_data/fig{figure}.png')\n",
    "    plt.show()"
   ]
  },
  {
   "cell_type": "markdown",
   "metadata": {},
   "source": [
    "####  Northern Hemisphere - Max Temp vs. Latitude Linear Regression"
   ]
  },
  {
   "cell_type": "code",
   "execution_count": null,
   "metadata": {},
   "outputs": [],
   "source": [
    "# Fill in columns you want to use.\n",
    "xvalue = 'Lat'\n",
    "yvalue = 'Max Temp'\n",
    "# Position the annotation.\n",
    "eqpos = (0, 35)\n",
    "# Give title\n",
    "plt.title(f'Northern Hemisphere - Max Temp vs. Latitude Linear Regression')\n",
    "# Run the function, then label X & Y.\n",
    "LinearRegressionPlots(northern_hem[xvalue], northern_hem[yvalue], 'Latitude', 'Max Temperature (F)', eqpos, 1)\n",
    "\n",
    "# This linear regression model shows the correlation between latitude and max temperature in the northern hemisphere. This shows a good correlation between the two values, however unlike the northern hemisphere, the southern temperatures do not change as drastically."
   ]
  },
  {
   "cell_type": "markdown",
   "metadata": {},
   "source": [
    "####  Southern Hemisphere - Max Temp vs. Latitude Linear Regression"
   ]
  },
  {
   "cell_type": "code",
   "execution_count": null,
   "metadata": {},
   "outputs": [],
   "source": [
    "xvalue = 'Lat'\n",
    "yvalue = 'Max Temp'\n",
    "eqpos = (-55, 80)\n",
    "plt.title(f'Southern Hemisphere - Max Temp vs. Latitude Linear Regression')\n",
    "LinearRegressionPlots(southern_hem[xvalue], southern_hem[yvalue], 'Latitude', 'Max Temperature (F)', eqpos, 2)\n",
    "\n",
    "# This linear regression model shows the correlation between latitude and max temperature in the southern hemisphere. This shows a strong correlation between the two values in that the further away a city is from the equator the colder a city is."
   ]
  },
  {
   "cell_type": "markdown",
   "metadata": {},
   "source": [
    "####  Northern Hemisphere - Humidity (%) vs. Latitude Linear Regression"
   ]
  },
  {
   "cell_type": "code",
   "execution_count": null,
   "metadata": {},
   "outputs": [],
   "source": [
    "xvalue = 'Lat'\n",
    "yvalue = 'Humidity'\n",
    "eqpos = (45, 10)\n",
    "plt.title(f'Nerthern Hemisphere - Max Temp vs. Latitude Linear Regression')\n",
    "LinearRegressionPlots(northern_hem[xvalue], northern_hem[yvalue], 'Latitude', 'Humidity', eqpos, 3)\n",
    "\n",
    "# This linear regression model shows the correlation between latitude and a city's humidity in northern hemisphere. According to ths plot it shows there is only slight correlation in humidity. The results however are not significant enough to be of signficant meaning."
   ]
  },
  {
   "cell_type": "markdown",
   "metadata": {},
   "source": [
    "####  Southern Hemisphere - Humidity (%) vs. Latitude Linear Regression"
   ]
  },
  {
   "cell_type": "code",
   "execution_count": null,
   "metadata": {},
   "outputs": [],
   "source": [
    "xvalue = 'Lat'\n",
    "yvalue = 'Humidity'\n",
    "eqpos = (-56, 31)\n",
    "plt.title(f'Southern Hemisphere - Max Temp vs. Latitude Linear Regression')\n",
    "LinearRegressionPlots(southern_hem[xvalue], southern_hem[yvalue], 'Latitude', 'Humidity', eqpos, 4)\n",
    "\n",
    "# This linear regression model shows the correlation between latitude and a city's humidity in southern hemisphere. According to ths plot it shows there is slight correlation in humidity. The data is not significant."
   ]
  },
  {
   "cell_type": "markdown",
   "metadata": {},
   "source": [
    "####  Northern Hemisphere - Cloudiness (%) vs. Latitude Linear Regression"
   ]
  },
  {
   "cell_type": "code",
   "execution_count": null,
   "metadata": {},
   "outputs": [],
   "source": [
    "xvalue = 'Lat'\n",
    "yvalue = 'Cloudiness'\n",
    "eqpos = (0, 50)\n",
    "plt.title(f'Nerthern Hemisphere - Max Temp vs. Latitude Linear Regression')\n",
    "LinearRegressionPlots(northern_hem[xvalue], northern_hem[yvalue], 'Latitude', 'Cloudiness', eqpos, 5)\n",
    "\n",
    "# The linear regression model shows the correlation between latitude and a city's cloudiness in the northern hemisphere. As you can see from this dataset there is no real correlation between the two values."
   ]
  },
  {
   "cell_type": "markdown",
   "metadata": {},
   "source": [
    "####  Southern Hemisphere - Cloudiness (%) vs. Latitude Linear Regression"
   ]
  },
  {
   "cell_type": "code",
   "execution_count": null,
   "metadata": {},
   "outputs": [],
   "source": [
    "xvalue = 'Lat'\n",
    "yvalue = 'Cloudiness'\n",
    "eqpos = (-56, 25)\n",
    "plt.title(f'Southern Hemisphere - Max Temp vs. Latitude Linear Regression')\n",
    "LinearRegressionPlots(southern_hem[xvalue], southern_hem[yvalue], 'Latitude', 'Cloudiness', eqpos, 6)\n",
    "\n",
    "# The linear regression model shows the correlation between latitude and a city's cloudiness in the southern hemisphere. As you can see from this dataset there is no real correlation between the two values."
   ]
  },
  {
   "cell_type": "markdown",
   "metadata": {},
   "source": [
    "####  Northern Hemisphere - Wind Speed (mph) vs. Latitude Linear Regression"
   ]
  },
  {
   "cell_type": "code",
   "execution_count": null,
   "metadata": {},
   "outputs": [],
   "source": [
    "xvalue = 'Lat'\n",
    "yvalue = 'Wind Speed'\n",
    "eqpos = (20, 25)\n",
    "plt.title(f'Nerthern Hemisphere - Max Temp vs. Latitude Linear Regression')\n",
    "LinearRegressionPlots(northern_hem[xvalue], northern_hem[yvalue], 'Latitude', 'Wind Speed', eqpos, 7)\n",
    "\n",
    "# This linear regression model show the correlation between latitude and a city's wind speed in the northern hemisphere. There seems to be no correlation between these two values."
   ]
  },
  {
   "cell_type": "markdown",
   "metadata": {},
   "source": [
    "####  Southern Hemisphere - Wind Speed (mph) vs. Latitude Linear Regression"
   ]
  },
  {
   "cell_type": "code",
   "execution_count": null,
   "metadata": {},
   "outputs": [],
   "source": [
    "xvalue = 'Lat'\n",
    "yvalue = 'Wind Speed'\n",
    "eqpos = (-56, 17)\n",
    "plt.title(f'Southern Hemisphere - Max Temp vs. Latitude Linear Regression')\n",
    "LinearRegressionPlots(southern_hem[xvalue], southern_hem[yvalue], 'Latitude', 'Wind Speed', eqpos, 8)\n",
    "\n",
    "# This linear regression model show the correlation between latitude and a city's wind speed in the southern hemisphere. According to this dataset there does seem to be slight correlation between the two. The further away from the equator the stronger the winds may be for a city."
   ]
  }
 ],
 "metadata": {
  "anaconda-cloud": {},
  "kernel_info": {
   "name": "python3"
  },
  "kernelspec": {
   "name": "python3",
   "display_name": "Python 3.8.5 64-bit ('base': conda)"
  },
  "language_info": {
   "codemirror_mode": {
    "name": "ipython",
    "version": 3
   },
   "file_extension": ".py",
   "mimetype": "text/x-python",
   "name": "python",
   "nbconvert_exporter": "python",
   "pygments_lexer": "ipython3",
   "version": "3.8.5"
  },
  "latex_envs": {
   "LaTeX_envs_menu_present": true,
   "autoclose": false,
   "autocomplete": true,
   "bibliofile": "biblio.bib",
   "cite_by": "apalike",
   "current_citInitial": 1,
   "eqLabelWithNumbers": true,
   "eqNumInitial": 1,
   "hotkeys": {
    "equation": "Ctrl-E",
    "itemize": "Ctrl-I"
   },
   "labels_anchors": false,
   "latex_user_defs": false,
   "report_style_numbering": false,
   "user_envs_cfg": false
  },
  "nteract": {
   "version": "0.12.3"
  },
  "interpreter": {
   "hash": "62249ab88f004581040b552093f6a37d297968d50509d16f925c90e58a716667"
  }
 },
 "nbformat": 4,
 "nbformat_minor": 2
}