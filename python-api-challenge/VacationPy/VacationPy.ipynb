{
 "cells": [
  {
   "cell_type": "markdown",
   "metadata": {},
   "source": [
    "# VacationPy\n",
    "----\n",
    "\n",
    "#### Note\n",
    "* Keep an eye on your API usage. Use https://developers.google.com/maps/reporting/gmp-reporting as reference for how to monitor your usage and billing.\n",
    "\n",
    "* Instructions have been included for each segment. You do not have to follow them exactly, but they are included to help you think through the steps."
   ]
  },
  {
   "cell_type": "code",
   "execution_count": 1,
   "metadata": {},
   "outputs": [],
   "source": [
    "# Dependencies and Setup\n",
    "import matplotlib.pyplot as plt\n",
    "import pandas as pd\n",
    "import numpy as np\n",
    "import requests\n",
    "import gmaps\n",
    "import os\n",
    "\n",
    "# Import API key\n",
    "import os\n",
    "import sys\n",
    "module_path = os.path.abspath(os.path.join('..'))\n",
    "if module_path not in sys.path:\n",
    "    sys.path.append(module_path)\n",
    "from api_keys import g_key"
   ]
  },
  {
   "cell_type": "markdown",
   "metadata": {},
   "source": [
    "### Store Part I results into DataFrame\n",
    "* Load the csv exported in Part I to a DataFrame"
   ]
  },
  {
   "cell_type": "code",
   "execution_count": 2,
   "metadata": {},
   "outputs": [
    {
     "output_type": "execute_result",
     "data": {
      "text/plain": [
       "          City       Lon      Lat  Max Temp  Humidity  Cloudiness  Wind Speed  \\\n",
       "0     hermanus   19.2345 -34.4187     55.80        76          95       24.63   \n",
       "1  tuktoyaktuk -133.0374  69.4541     44.60        87          90       18.41   \n",
       "2     saldanha   17.9442 -33.0117     59.16        78         100       14.32   \n",
       "3        luwuk  122.7875  -0.9516     83.88        69          86        3.49   \n",
       "4    piacabucu  -36.4344 -10.4056     75.06        67         100        8.88   \n",
       "\n",
       "  Country        Date  \n",
       "0      ZA  2021-06-26  \n",
       "1      CA  2021-06-26  \n",
       "2      ZA  2021-06-26  \n",
       "3      ID  2021-06-26  \n",
       "4      BR  2021-06-26  "
      ],
      "text/html": "<div>\n<style scoped>\n    .dataframe tbody tr th:only-of-type {\n        vertical-align: middle;\n    }\n\n    .dataframe tbody tr th {\n        vertical-align: top;\n    }\n\n    .dataframe thead th {\n        text-align: right;\n    }\n</style>\n<table border=\"1\" class=\"dataframe\">\n  <thead>\n    <tr style=\"text-align: right;\">\n      <th></th>\n      <th>City</th>\n      <th>Lon</th>\n      <th>Lat</th>\n      <th>Max Temp</th>\n      <th>Humidity</th>\n      <th>Cloudiness</th>\n      <th>Wind Speed</th>\n      <th>Country</th>\n      <th>Date</th>\n    </tr>\n  </thead>\n  <tbody>\n    <tr>\n      <th>0</th>\n      <td>hermanus</td>\n      <td>19.2345</td>\n      <td>-34.4187</td>\n      <td>55.80</td>\n      <td>76</td>\n      <td>95</td>\n      <td>24.63</td>\n      <td>ZA</td>\n      <td>2021-06-26</td>\n    </tr>\n    <tr>\n      <th>1</th>\n      <td>tuktoyaktuk</td>\n      <td>-133.0374</td>\n      <td>69.4541</td>\n      <td>44.60</td>\n      <td>87</td>\n      <td>90</td>\n      <td>18.41</td>\n      <td>CA</td>\n      <td>2021-06-26</td>\n    </tr>\n    <tr>\n      <th>2</th>\n      <td>saldanha</td>\n      <td>17.9442</td>\n      <td>-33.0117</td>\n      <td>59.16</td>\n      <td>78</td>\n      <td>100</td>\n      <td>14.32</td>\n      <td>ZA</td>\n      <td>2021-06-26</td>\n    </tr>\n    <tr>\n      <th>3</th>\n      <td>luwuk</td>\n      <td>122.7875</td>\n      <td>-0.9516</td>\n      <td>83.88</td>\n      <td>69</td>\n      <td>86</td>\n      <td>3.49</td>\n      <td>ID</td>\n      <td>2021-06-26</td>\n    </tr>\n    <tr>\n      <th>4</th>\n      <td>piacabucu</td>\n      <td>-36.4344</td>\n      <td>-10.4056</td>\n      <td>75.06</td>\n      <td>67</td>\n      <td>100</td>\n      <td>8.88</td>\n      <td>BR</td>\n      <td>2021-06-26</td>\n    </tr>\n  </tbody>\n</table>\n</div>"
     },
     "metadata": {},
     "execution_count": 2
    }
   ],
   "source": [
    "weather_csv = '../output_data/weather_csv.csv'\n",
    "weather_dataframe = pd.read_csv(weather_csv)\n",
    "weather_dataframe.head()"
   ]
  },
  {
   "cell_type": "markdown",
   "metadata": {},
   "source": [
    "### Humidity Heatmap\n",
    "* Configure gmaps.\n",
    "* Use the Lat and Lng as locations and Humidity as the weight.\n",
    "* Add Heatmap layer to map."
   ]
  },
  {
   "cell_type": "code",
   "execution_count": 3,
   "metadata": {},
   "outputs": [],
   "source": [
    "gmaps.configure(api_key=g_key)\n",
    "\n",
    "locations = weather_dataframe[['Lat', 'Lon']].astype(float)\n",
    "humidity = weather_dataframe['Humidity'].astype(float)"
   ]
  },
  {
   "cell_type": "code",
   "execution_count": 4,
   "metadata": {},
   "outputs": [
    {
     "output_type": "display_data",
     "data": {
      "text/plain": "Figure(layout=FigureLayout(height='420px'))",
      "application/vnd.jupyter.widget-view+json": {
       "version_major": 2,
       "version_minor": 0,
       "model_id": "9df73b3b944446c186fa0c51eaaee064"
      }
     },
     "metadata": {}
    }
   ],
   "source": [
    "locations = weather_dataframe[['Lat', 'Lon']].astype(float)\n",
    "weights = weather_dataframe['Humidity'].astype(float)\n",
    "fig = gmaps.figure()\n",
    "fig.add_layer(gmaps.heatmap_layer(locations, weights=weights))\n",
    "fig"
   ]
  },
  {
   "cell_type": "markdown",
   "metadata": {},
   "source": [
    "### Create new DataFrame fitting weather criteria\n",
    "* Narrow down the cities to fit weather conditions.\n",
    "* Drop any rows will null values."
   ]
  },
  {
   "cell_type": "code",
   "execution_count": 5,
   "metadata": {},
   "outputs": [
    {
     "output_type": "execute_result",
     "data": {
      "text/plain": [
       "        City       Lon      Lat  Max Temp  Humidity  Cloudiness  Wind Speed  \\\n",
       "15    riyadh   46.7219  24.6877     82.54        11           5        1.77   \n",
       "63   mastung   66.8450  29.7994     68.97         9           0        3.02   \n",
       "89    parral -105.6667  26.9333     89.06        18           7       14.79   \n",
       "104     atar  -13.0499  20.5169     87.44        40          21       11.36   \n",
       "109  birjand   59.2211  32.8663     66.47        38           0        9.86   \n",
       "\n",
       "    Country        Date  \n",
       "15       SA  2021-06-26  \n",
       "63       PK  2021-06-26  \n",
       "89       MX  2021-06-26  \n",
       "104      MR  2021-06-26  \n",
       "109      IR  2021-06-26  "
      ],
      "text/html": "<div>\n<style scoped>\n    .dataframe tbody tr th:only-of-type {\n        vertical-align: middle;\n    }\n\n    .dataframe tbody tr th {\n        vertical-align: top;\n    }\n\n    .dataframe thead th {\n        text-align: right;\n    }\n</style>\n<table border=\"1\" class=\"dataframe\">\n  <thead>\n    <tr style=\"text-align: right;\">\n      <th></th>\n      <th>City</th>\n      <th>Lon</th>\n      <th>Lat</th>\n      <th>Max Temp</th>\n      <th>Humidity</th>\n      <th>Cloudiness</th>\n      <th>Wind Speed</th>\n      <th>Country</th>\n      <th>Date</th>\n    </tr>\n  </thead>\n  <tbody>\n    <tr>\n      <th>15</th>\n      <td>riyadh</td>\n      <td>46.7219</td>\n      <td>24.6877</td>\n      <td>82.54</td>\n      <td>11</td>\n      <td>5</td>\n      <td>1.77</td>\n      <td>SA</td>\n      <td>2021-06-26</td>\n    </tr>\n    <tr>\n      <th>63</th>\n      <td>mastung</td>\n      <td>66.8450</td>\n      <td>29.7994</td>\n      <td>68.97</td>\n      <td>9</td>\n      <td>0</td>\n      <td>3.02</td>\n      <td>PK</td>\n      <td>2021-06-26</td>\n    </tr>\n    <tr>\n      <th>89</th>\n      <td>parral</td>\n      <td>-105.6667</td>\n      <td>26.9333</td>\n      <td>89.06</td>\n      <td>18</td>\n      <td>7</td>\n      <td>14.79</td>\n      <td>MX</td>\n      <td>2021-06-26</td>\n    </tr>\n    <tr>\n      <th>104</th>\n      <td>atar</td>\n      <td>-13.0499</td>\n      <td>20.5169</td>\n      <td>87.44</td>\n      <td>40</td>\n      <td>21</td>\n      <td>11.36</td>\n      <td>MR</td>\n      <td>2021-06-26</td>\n    </tr>\n    <tr>\n      <th>109</th>\n      <td>birjand</td>\n      <td>59.2211</td>\n      <td>32.8663</td>\n      <td>66.47</td>\n      <td>38</td>\n      <td>0</td>\n      <td>9.86</td>\n      <td>IR</td>\n      <td>2021-06-26</td>\n    </tr>\n  </tbody>\n</table>\n</div>"
     },
     "metadata": {},
     "execution_count": 5
    }
   ],
   "source": [
    "# Create my ideal dataframe.\n",
    "filtered_dataframe = weather_dataframe.loc[(weather_dataframe['Max Temp'] <= 90) & (weather_dataframe['Max Temp'] >= 60) & \\\n",
    "                        (weather_dataframe['Cloudiness'] <= 50) & (weather_dataframe['Humidity'] <= 40)].dropna()\n",
    "filtered_dataframe.head()"
   ]
  },
  {
   "cell_type": "markdown",
   "metadata": {},
   "source": [
    "### Hotel Map\n",
    "* Store into variable named `hotel_df`.\n",
    "* Add a \"Hotel Name\" column to the DataFrame.\n",
    "* Set parameters to search for hotels with 5000 meters.\n",
    "* Hit the Google Places API for each city's coordinates.\n",
    "* Store the first Hotel result into the DataFrame.\n",
    "* Plot markers on top of the heatmap."
   ]
  },
  {
   "cell_type": "code",
   "execution_count": 6,
   "metadata": {},
   "outputs": [
    {
     "output_type": "execute_result",
     "data": {
      "text/plain": [
       "        City Country      Lat       Lon Hotel\n",
       "15    riyadh      SA  24.6877   46.7219      \n",
       "63   mastung      PK  29.7994   66.8450      \n",
       "89    parral      MX  26.9333 -105.6667      \n",
       "104     atar      MR  20.5169  -13.0499      \n",
       "109  birjand      IR  32.8663   59.2211      "
      ],
      "text/html": "<div>\n<style scoped>\n    .dataframe tbody tr th:only-of-type {\n        vertical-align: middle;\n    }\n\n    .dataframe tbody tr th {\n        vertical-align: top;\n    }\n\n    .dataframe thead th {\n        text-align: right;\n    }\n</style>\n<table border=\"1\" class=\"dataframe\">\n  <thead>\n    <tr style=\"text-align: right;\">\n      <th></th>\n      <th>City</th>\n      <th>Country</th>\n      <th>Lat</th>\n      <th>Lon</th>\n      <th>Hotel</th>\n    </tr>\n  </thead>\n  <tbody>\n    <tr>\n      <th>15</th>\n      <td>riyadh</td>\n      <td>SA</td>\n      <td>24.6877</td>\n      <td>46.7219</td>\n      <td></td>\n    </tr>\n    <tr>\n      <th>63</th>\n      <td>mastung</td>\n      <td>PK</td>\n      <td>29.7994</td>\n      <td>66.8450</td>\n      <td></td>\n    </tr>\n    <tr>\n      <th>89</th>\n      <td>parral</td>\n      <td>MX</td>\n      <td>26.9333</td>\n      <td>-105.6667</td>\n      <td></td>\n    </tr>\n    <tr>\n      <th>104</th>\n      <td>atar</td>\n      <td>MR</td>\n      <td>20.5169</td>\n      <td>-13.0499</td>\n      <td></td>\n    </tr>\n    <tr>\n      <th>109</th>\n      <td>birjand</td>\n      <td>IR</td>\n      <td>32.8663</td>\n      <td>59.2211</td>\n      <td></td>\n    </tr>\n  </tbody>\n</table>\n</div>"
     },
     "metadata": {},
     "execution_count": 6
    }
   ],
   "source": [
    "# Make a new hotel dataframe using coordinates\n",
    "hotel_dataframe = filtered_dataframe.loc[:,['City','Country','Lat','Lon']]\n",
    "# Create new column for hotel name\n",
    "hotel_dataframe['Hotel'] = ''\n",
    "hotel_dataframe.head()"
   ]
  },
  {
   "cell_type": "code",
   "execution_count": 14,
   "metadata": {
    "tags": []
   },
   "outputs": [
    {
     "output_type": "stream",
     "name": "stdout",
     "text": [
      "Retrieving results for index 15: riyadh.\n",
      "Nearest hotel in riyadh is InterContinental Riyadh, an IHG Hotel.\n",
      "----------------------\n",
      "Retrieving results for index 63: mastung.\n",
      "Nearest hotel in mastung is Al Hasnan Cold Drink Santer.\n",
      "----------------------\n",
      "Retrieving results for index 89: parral.\n",
      "Nearest hotel in parral is HOTEL LOS ARCOS PARRAL.\n",
      "----------------------\n",
      "Retrieving results for index 104: atar.\n",
      "Nearest hotel in atar is Oumou Elghoura.\n",
      "----------------------\n",
      "Retrieving results for index 109: birjand.\n",
      "Nearest hotel in birjand is Birjand Tourist Hotel.\n",
      "----------------------\n",
      "Retrieving results for index 123: tahta.\n",
      "Nearest hotel in tahta is El Salam Hotel.\n",
      "----------------------\n",
      "Retrieving results for index 136: cherskiy.\n",
      "Nearest hotel in cherskiy is Gostinitsa.\n",
      "----------------------\n",
      "Retrieving results for index 144: jalu.\n",
      "Nearest hotel in jalu is صاحبة الفخامة.\n",
      "----------------------\n",
      "Retrieving results for index 246: east london.\n",
      "Nearest hotel in east london is Tu Casa.\n",
      "----------------------\n",
      "Retrieving results for index 253: ajdabiya.\n",
      "Nearest hotel in ajdabiya is Almadina Hotel.\n",
      "----------------------\n",
      "Retrieving results for index 271: komsomolskiy.\n",
      "Nearest hotel in komsomolskiy is Ikathouse.\n",
      "----------------------\n",
      "Retrieving results for index 272: port hedland.\n",
      "Nearest hotel in port hedland is The Esplanade Hotel.\n",
      "----------------------\n",
      "Retrieving results for index 286: dogondoutchi.\n",
      "Nearest hotel in dogondoutchi is Hôtel Alheri Maison Alheri.\n",
      "----------------------\n",
      "Retrieving results for index 295: dalbandin.\n",
      "Nearest hotel in dalbandin is Sanjrani House.\n",
      "----------------------\n",
      "Retrieving results for index 303: akdepe.\n",
      "Nearest hotel in akdepe is Мой дом.\n",
      "----------------------\n",
      "Retrieving results for index 306: hami.\n",
      "Nearest hotel in hami is Laoyutang Resort.\n",
      "----------------------\n",
      "Retrieving results for index 328: zhanaozen.\n",
      "Nearest hotel in zhanaozen is K.korabay 28A.\n",
      "----------------------\n",
      "Retrieving results for index 330: qarchi gak.\n",
      "--- Invalid Result ---\n",
      "----------------------\n",
      "Retrieving results for index 331: tall kayf.\n",
      "--- Invalid Result ---\n",
      "----------------------\n",
      "Retrieving results for index 332: buraydah.\n",
      "Nearest hotel in buraydah is فندق راحة السلام.\n",
      "----------------------\n",
      "Retrieving results for index 355: aswan.\n",
      "Nearest hotel in aswan is Nuba Nile.\n",
      "----------------------\n",
      "Retrieving results for index 361: randazzo.\n",
      "Nearest hotel in randazzo is Ai Tre Parchi Bed And Bike.\n",
      "----------------------\n",
      "Retrieving results for index 369: bilibino.\n",
      "Nearest hotel in bilibino is Gostinitsa Severyanka.\n",
      "----------------------\n",
      "Retrieving results for index 421: tessalit.\n",
      "--- Invalid Result ---\n",
      "----------------------\n",
      "Retrieving results for index 436: sabzevar.\n",
      "Nearest hotel in sabzevar is پزشکی قانونی سبزوار.\n",
      "----------------------\n",
      "Retrieving results for index 477: high level.\n",
      "Nearest hotel in high level is Days Inn by Wyndham High Level.\n",
      "----------------------\n",
      "Retrieving results for index 532: sayyan.\n",
      "Nearest hotel in sayyan is متنزه و بحيرة سيان.\n",
      "----------------------\n",
      "Retrieving results for index 535: beyneu.\n",
      "Nearest hotel in beyneu is NUR.\n",
      "----------------------\n",
      "Retrieving results for index 547: fort nelson.\n",
      "Nearest hotel in fort nelson is The Fort Nelson Hotel.\n",
      "----------------------\n",
      "Retrieving results for index 551: safaga.\n",
      "Nearest hotel in safaga is Lamar Resort Abu Soma.\n",
      "----------------------\n",
      "Retrieving results for index 558: srednekolymsk.\n",
      "--- Invalid Result ---\n",
      "----------------------\n"
     ]
    }
   ],
   "source": [
    "# Setup each url\n",
    "google_url = 'https://maps.googleapis.com/maps/api/place/nearbysearch/json?'\n",
    "\n",
    "# Create params dictionary for each iteration\n",
    "params = {\n",
    "    'radius': 5000,\n",
    "    'types': 'lodging',\n",
    "    'key': g_key\n",
    "}\n",
    "\n",
    "# Get that loop rollin!\n",
    "for index, row in hotel_dataframe.iterrows():\n",
    "    # Identify columns\n",
    "    lat = row['Lat']\n",
    "    lng = row['Lon']\n",
    "    city = row['City']\n",
    "    # change location each iteration while leaving original params in place\n",
    "    params['location'] = f'{lat},{lng}'\n",
    "    # Make API Request\n",
    "    print(f'Retrieving results for index {index}: {city}.')\n",
    "    response = requests.get(google_url, params=params).json()\n",
    "    # Pull the results\n",
    "    results = response['results']\n",
    "    # Try & Except statement for saving results or skipping invalid\n",
    "    try:\n",
    "        print(f'Nearest hotel in {city} is {results[0][\"name\"]}.')\n",
    "        hotel_dataframe.loc[index, 'Hotel Name'] = results[0]['name']\n",
    "    except (KeyError, IndexError):\n",
    "        print(f'-'*3, 'Invalid Result', '-'*3)\n",
    "        \n",
    "    print(f'-'*22)"
   ]
  },
  {
   "cell_type": "code",
   "execution_count": 15,
   "metadata": {},
   "outputs": [],
   "source": [
    "# NOTE: Do not change any of the code in this cell\n",
    "\n",
    "# Using the template add the hotel marks to the heatmap\n",
    "info_box_template = '''\n",
    "<dl>\n",
    "<dt>Name</dt><dd>{Hotel Name}</dd>\n",
    "<dt>City</dt><dd>{City}</dd>\n",
    "<dt>Country</dt><dd>{Country}</dd>\n",
    "</dl>\n",
    "'''\n",
    "# Store the DataFrame Row\n",
    "# NOTE: be sure to update with your DataFrame name\n",
    "hotel_info = [info_box_template.format(**row) for index, row in hotel_dataframe.iterrows()]\n",
    "locations = hotel_dataframe[['Lat', 'Lon']]"
   ]
  },
  {
   "cell_type": "code",
   "execution_count": 16,
   "metadata": {},
   "outputs": [
    {
     "output_type": "display_data",
     "data": {
      "text/plain": "Figure(layout=FigureLayout(height='420px'))",
      "application/vnd.jupyter.widget-view+json": {
       "version_major": 2,
       "version_minor": 0,
       "model_id": "9df73b3b944446c186fa0c51eaaee064"
      }
     },
     "metadata": {}
    }
   ],
   "source": [
    "# Add marker layer ontop of heat map\n",
    "markers = gmaps.marker_layer(locations, info_box_content = hotel_info)\n",
    "fig.add_layer(markers)\n",
    "# Display figure\n",
    "fig"
   ]
  },
  {
   "cell_type": "code",
   "execution_count": null,
   "metadata": {},
   "outputs": [],
   "source": []
  }
 ],
 "metadata": {
  "kernelspec": {
   "name": "python3",
   "display_name": "Python 3.8.5 64-bit ('base': conda)"
  },
  "language_info": {
   "codemirror_mode": {
    "name": "ipython",
    "version": 3
   },
   "file_extension": ".py",
   "mimetype": "text/x-python",
   "name": "python",
   "nbconvert_exporter": "python",
   "pygments_lexer": "ipython3",
   "version": "3.8.5"
  },
  "latex_envs": {
   "LaTeX_envs_menu_present": true,
   "autoclose": false,
   "autocomplete": true,
   "bibliofile": "biblio.bib",
   "cite_by": "apalike",
   "current_citInitial": 1,
   "eqLabelWithNumbers": true,
   "eqNumInitial": 1,
   "hotkeys": {
    "equation": "Ctrl-E",
    "itemize": "Ctrl-I"
   },
   "labels_anchors": false,
   "latex_user_defs": false,
   "report_style_numbering": false,
   "user_envs_cfg": false
  },
  "interpreter": {
   "hash": "62249ab88f004581040b552093f6a37d297968d50509d16f925c90e58a716667"
  }
 },
 "nbformat": 4,
 "nbformat_minor": 4
}